{
  "nbformat": 4,
  "nbformat_minor": 0,
  "metadata": {
    "colab": {
      "provenance": []
    },
    "kernelspec": {
      "name": "python3",
      "display_name": "Python 3"
    },
    "language_info": {
      "name": "python"
    }
  },
  "cells": [
    {
      "cell_type": "code",
      "execution_count": 1,
      "metadata": {
        "id": "AwAoyumX23dw"
      },
      "outputs": [],
      "source": [
        "import pandas as pd\n",
        "import numpy as np"
      ]
    },
    {
      "cell_type": "code",
      "source": [
        "import pandas as pd\n",
        "\n",
        "splits = {'train': 'train.csv', 'test': 'test1.csv'}\n",
        "df = pd.read_csv(\"hf://datasets/chitra/contradictionNLI/\" + splits[\"train\"])"
      ],
      "metadata": {
        "id": "RE6K04Dp2-GZ"
      },
      "execution_count": 3,
      "outputs": []
    }
  ]
}